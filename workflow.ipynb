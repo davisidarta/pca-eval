{
 "cells": [
  {
   "cell_type": "markdown",
   "metadata": {},
   "source": [
    "# Showing why PCA preprocessing in single-cell genomics is a terrible idea\n",
    "\n",
    "For the manuscript. For now only have 14 datasets, but the example sufficies."
   ]
  },
  {
   "cell_type": "code",
   "execution_count": 1,
   "metadata": {},
   "outputs": [],
   "source": [
    "import glob\n",
    "import numpy as np\n",
    "import scanpy as sc\n",
    "from pcaeval.pca_eval import evaluate_anndata_file_list, plot_sing_vals_exp_var, process, preprocess, evaluate_anndata, print_dict_results"
   ]
  },
  {
   "cell_type": "code",
   "execution_count": 2,
   "metadata": {},
   "outputs": [
    {
     "data": {
      "text/plain": [
       "['/home/davi/Bioinfo/BenchmarkDatasets/data/C. elegans.h5ad',\n",
       " '/home/davi/Bioinfo/BenchmarkDatasets/data/Embryoid Body.h5ad',\n",
       " '/home/davi/Bioinfo/BenchmarkDatasets/data/Hydra sp.h5ad',\n",
       " '/home/davi/Bioinfo/BenchmarkDatasets/data/Mouse brain.h5ad',\n",
       " '/home/davi/Bioinfo/BenchmarkDatasets/data/Bone marrow (M).h5ad',\n",
       " '/home/davi/Bioinfo/BenchmarkDatasets/data/Glioblastoma.h5ad',\n",
       " '/home/davi/Bioinfo/BenchmarkDatasets/data/PBMC (Lupus).h5ad',\n",
       " '/home/davi/Bioinfo/BenchmarkDatasets/data/PBMCs (10k).h5ad',\n",
       " '/home/davi/Bioinfo/BenchmarkDatasets/data/Zebrafish.h5ad',\n",
       " '/home/davi/Bioinfo/BenchmarkDatasets/data/Stimulated T cells.h5ad',\n",
       " '/home/davi/Bioinfo/BenchmarkDatasets/data/PBMCs (68k).h5ad',\n",
       " '/home/davi/Bioinfo/BenchmarkDatasets/data/Paul 2015.h5ad',\n",
       " '/home/davi/Bioinfo/BenchmarkDatasets/data/Bone marrow (H).h5ad',\n",
       " '/home/davi/Bioinfo/BenchmarkDatasets/data/Mouse Organogenesis.h5ad']"
      ]
     },
     "execution_count": 2,
     "metadata": {},
     "output_type": "execute_result"
    }
   ],
   "source": [
    "wd = '/home/davi/Bioinfo/PCA_distortion/'\n",
    "data_dir = '/home/davi/Bioinfo/BenchmarkDatasets/data/'\n",
    "save_dir = '/home/davi/Bioinfo/BenchmarkDatasets/pca_distortion_results/'\n",
    "\n",
    "adata_files = glob.glob(data_dir + '*.h5ad')\n",
    "adata_files"
   ]
  },
  {
   "cell_type": "code",
   "execution_count": 3,
   "metadata": {},
   "outputs": [],
   "source": [
    "sc.settings.n_jobs = 12"
   ]
  },
  {
   "cell_type": "code",
   "execution_count": 4,
   "metadata": {},
   "outputs": [],
   "source": [
    "# from pcaeval.pca_eval import evaluate_anndata, plot_sing_vals_exp_var, print_dict_results\n",
    "\n",
    "# adata = sc.read_h5ad(adata_files[1])\n",
    "# # Input: a filtered, unnormalized AnnData object\n",
    "# # If already normalized, set norm_log_hvg=False\n",
    "# res_dict, adata = evaluate_anndata(adata, norm_log_hvg=True, n_jobs=-1)\n",
    "# dict = {'C elegans':res_dict}\n",
    "# print_dict_results(dict)"
   ]
  },
  {
   "cell_type": "code",
   "execution_count": 6,
   "metadata": {},
   "outputs": [
    {
     "name": "stdout",
     "output_type": "stream",
     "text": [
      "Processing file 1 of 14\n"
     ]
    }
   ],
   "source": [
    "results_dict = evaluate_anndata_file_list(adata_files, n_pcs=100,\n",
    " metric='euclidean', n_neighbors=10, save_intermediate=True, save_dir=save_dir, verbose=True,\n",
    "  not_normalize_idx=[13], return_dict=True)"
   ]
  },
  {
   "cell_type": "code",
   "execution_count": null,
   "metadata": {},
   "outputs": [],
   "source": [
    "print_dict_results(results_dict)"
   ]
  },
  {
   "cell_type": "code",
   "execution_count": null,
   "metadata": {},
   "outputs": [],
   "source": [
    "plot_sing_vals_exp_var(results_dict, fontsize=10)"
   ]
  },
  {
   "cell_type": "code",
   "execution_count": null,
   "metadata": {},
   "outputs": [],
   "source": [
    "# Mean total explained variance\n",
    "total_var_list = []\n",
    "for i, dataset in enumerate(results_dict):\n",
    "    total_var_list.append(results_dict[dataset]['explained_variance'].max())\n",
    "\n",
    "print('Mean total explained variance: {}'.format(np.mean(total_var_list)))"
   ]
  },
  {
   "cell_type": "code",
   "execution_count": null,
   "metadata": {},
   "outputs": [],
   "source": [
    "np.std(total_var_list)"
   ]
  },
  {
   "cell_type": "code",
   "execution_count": null,
   "metadata": {},
   "outputs": [],
   "source": [
    "for i, dataset_name in enumerate(results_dict):\n",
    "    print('\\n \\n  --- ' + str(dataset_name) + ' --- ' +\n",
    " '\\n Spearman R correlation between the k-nearest-neighbors graphs learned from the data and the Principal Components: %f'%results_dict['graph_correlation'] +\n",
    " '\\n Spearman R correlation between the geodesic distances in UMAP embeddings learned from these graphs %f'%results_dict['embedding_correlation'] +\n",
    " '\\n Total explained variance with the first 100 PCs: %f'%results_dict['explained_variance'].max() +\n",
    " '\\n Adjusted rand index (ARI) between clustering on top 100 PCs and on full data: %f'%results_dict['adjusted_rand_score'])"
   ]
  }
 ],
 "metadata": {
  "kernelspec": {
   "display_name": "Python 3.8.10 64-bit",
   "language": "python",
   "name": "python3"
  },
  "language_info": {
   "codemirror_mode": {
    "name": "ipython",
    "version": 3
   },
   "file_extension": ".py",
   "mimetype": "text/x-python",
   "name": "python",
   "nbconvert_exporter": "python",
   "pygments_lexer": "ipython3",
   "version": "3.8.10"
  },
  "orig_nbformat": 4,
  "vscode": {
   "interpreter": {
    "hash": "e7370f93d1d0cde622a1f8e1c04877d8463912d04d973331ad4851f04de6915a"
   }
  }
 },
 "nbformat": 4,
 "nbformat_minor": 2
}
