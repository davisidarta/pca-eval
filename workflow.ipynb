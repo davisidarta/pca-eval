{
 "cells": [
  {
   "cell_type": "markdown",
   "metadata": {},
   "source": [
    "# Showing why PCA preprocessing in single-cell genomics is a bad idea\n",
    "\n",
    "For the manuscript. For now only have 14 datasets, but the example sufficies."
   ]
  },
  {
   "cell_type": "code",
   "execution_count": 1,
   "metadata": {},
   "outputs": [
    {
     "ename": "KeyboardInterrupt",
     "evalue": "",
     "output_type": "error",
     "traceback": [
      "\u001b[0;31m---------------------------------------------------------------------------\u001b[0m",
      "\u001b[0;31mKeyboardInterrupt\u001b[0m                         Traceback (most recent call last)",
      "\u001b[1;32m/home/davi/Bioinfo/pca-eval/workflow.ipynb Cell 2\u001b[0m in \u001b[0;36m<cell line: 4>\u001b[0;34m()\u001b[0m\n\u001b[1;32m      <a href='vscode-notebook-cell:/home/davi/Bioinfo/pca-eval/workflow.ipynb#ch0000001?line=1'>2</a>\u001b[0m \u001b[39mimport\u001b[39;00m \u001b[39mnumpy\u001b[39;00m \u001b[39mas\u001b[39;00m \u001b[39mnp\u001b[39;00m\n\u001b[1;32m      <a href='vscode-notebook-cell:/home/davi/Bioinfo/pca-eval/workflow.ipynb#ch0000001?line=2'>3</a>\u001b[0m \u001b[39mimport\u001b[39;00m \u001b[39mscanpy\u001b[39;00m \u001b[39mas\u001b[39;00m \u001b[39msc\u001b[39;00m\n\u001b[0;32m----> <a href='vscode-notebook-cell:/home/davi/Bioinfo/pca-eval/workflow.ipynb#ch0000001?line=3'>4</a>\u001b[0m \u001b[39mfrom\u001b[39;00m \u001b[39mpcaeval\u001b[39;00m\u001b[39m.\u001b[39;00m\u001b[39mpca_eval\u001b[39;00m \u001b[39mimport\u001b[39;00m evaluate_anndata_file_list, plot_sing_vals_exp_var, process, preprocess, evaluate_anndata, print_dict_results\n",
      "File \u001b[0;32m~/Bioinfo/pca-eval/pcaeval/__init__.py:1\u001b[0m, in \u001b[0;36m<module>\u001b[0;34m\u001b[0m\n\u001b[0;32m----> 1\u001b[0m \u001b[39mfrom\u001b[39;00m \u001b[39m.\u001b[39;00m\u001b[39mpca_eval\u001b[39;00m \u001b[39mimport\u001b[39;00m \u001b[39m*\u001b[39m\n",
      "File \u001b[0;32m~/Bioinfo/pca-eval/pcaeval/pca_eval.py:10\u001b[0m, in \u001b[0;36m<module>\u001b[0;34m\u001b[0m\n\u001b[1;32m      8\u001b[0m \u001b[39mfrom\u001b[39;00m \u001b[39msklearn\u001b[39;00m\u001b[39m.\u001b[39;00m\u001b[39mdatasets\u001b[39;00m \u001b[39mimport\u001b[39;00m make_classification, make_sparse_uncorrelated\n\u001b[1;32m      9\u001b[0m \u001b[39mfrom\u001b[39;00m \u001b[39mmatplotlib\u001b[39;00m \u001b[39mimport\u001b[39;00m pyplot \u001b[39mas\u001b[39;00m plt\n\u001b[0;32m---> 10\u001b[0m \u001b[39mfrom\u001b[39;00m \u001b[39mumap\u001b[39;00m\u001b[39m.\u001b[39;00m\u001b[39mumap_\u001b[39;00m \u001b[39mimport\u001b[39;00m UMAP\n\u001b[1;32m     11\u001b[0m \u001b[39mtry\u001b[39;00m:\n\u001b[1;32m     12\u001b[0m     \u001b[39mimport\u001b[39;00m \u001b[39mscanpy\u001b[39;00m \u001b[39mas\u001b[39;00m \u001b[39msc\u001b[39;00m\n",
      "File \u001b[0;32m~/.local/lib/python3.8/site-packages/umap/__init__.py:2\u001b[0m, in \u001b[0;36m<module>\u001b[0;34m\u001b[0m\n\u001b[1;32m      1\u001b[0m \u001b[39mfrom\u001b[39;00m \u001b[39mwarnings\u001b[39;00m \u001b[39mimport\u001b[39;00m warn, catch_warnings, simplefilter\n\u001b[0;32m----> 2\u001b[0m \u001b[39mfrom\u001b[39;00m \u001b[39m.\u001b[39;00m\u001b[39mumap_\u001b[39;00m \u001b[39mimport\u001b[39;00m UMAP\n\u001b[1;32m      4\u001b[0m \u001b[39mtry\u001b[39;00m:\n\u001b[1;32m      5\u001b[0m     \u001b[39mwith\u001b[39;00m catch_warnings():\n",
      "File \u001b[0;32m~/.local/lib/python3.8/site-packages/umap/umap_.py:47\u001b[0m, in \u001b[0;36m<module>\u001b[0;34m\u001b[0m\n\u001b[1;32m     40\u001b[0m \u001b[39mfrom\u001b[39;00m \u001b[39mumap\u001b[39;00m\u001b[39m.\u001b[39;00m\u001b[39mspectral\u001b[39;00m \u001b[39mimport\u001b[39;00m spectral_layout\n\u001b[1;32m     41\u001b[0m \u001b[39mfrom\u001b[39;00m \u001b[39mumap\u001b[39;00m\u001b[39m.\u001b[39;00m\u001b[39mlayouts\u001b[39;00m \u001b[39mimport\u001b[39;00m (\n\u001b[1;32m     42\u001b[0m     optimize_layout_euclidean,\n\u001b[1;32m     43\u001b[0m     optimize_layout_generic,\n\u001b[1;32m     44\u001b[0m     optimize_layout_inverse,\n\u001b[1;32m     45\u001b[0m )\n\u001b[0;32m---> 47\u001b[0m \u001b[39mfrom\u001b[39;00m \u001b[39mpynndescent\u001b[39;00m \u001b[39mimport\u001b[39;00m NNDescent\n\u001b[1;32m     48\u001b[0m \u001b[39mfrom\u001b[39;00m \u001b[39mpynndescent\u001b[39;00m\u001b[39m.\u001b[39;00m\u001b[39mdistances\u001b[39;00m \u001b[39mimport\u001b[39;00m named_distances \u001b[39mas\u001b[39;00m pynn_named_distances\n\u001b[1;32m     49\u001b[0m \u001b[39mfrom\u001b[39;00m \u001b[39mpynndescent\u001b[39;00m\u001b[39m.\u001b[39;00m\u001b[39msparse\u001b[39;00m \u001b[39mimport\u001b[39;00m sparse_named_distances \u001b[39mas\u001b[39;00m pynn_sparse_named_distances\n",
      "File \u001b[0;32m~/.local/lib/python3.8/site-packages/pynndescent/__init__.py:3\u001b[0m, in \u001b[0;36m<module>\u001b[0;34m\u001b[0m\n\u001b[1;32m      1\u001b[0m \u001b[39mimport\u001b[39;00m \u001b[39mpkg_resources\u001b[39;00m\n\u001b[1;32m      2\u001b[0m \u001b[39mimport\u001b[39;00m \u001b[39mnumba\u001b[39;00m\n\u001b[0;32m----> 3\u001b[0m \u001b[39mfrom\u001b[39;00m \u001b[39m.\u001b[39;00m\u001b[39mpynndescent_\u001b[39;00m \u001b[39mimport\u001b[39;00m NNDescent, PyNNDescentTransformer\n\u001b[1;32m      5\u001b[0m \u001b[39m# Workaround: https://github.com/numba/numba/issues/3341\u001b[39;00m\n\u001b[1;32m      6\u001b[0m \u001b[39mif\u001b[39;00m numba\u001b[39m.\u001b[39mconfig\u001b[39m.\u001b[39mTHREADING_LAYER \u001b[39m==\u001b[39m \u001b[39m\"\u001b[39m\u001b[39momp\u001b[39m\u001b[39m\"\u001b[39m:\n",
      "File \u001b[0;32m~/.local/lib/python3.8/site-packages/pynndescent/pynndescent_.py:16\u001b[0m, in \u001b[0;36m<module>\u001b[0;34m\u001b[0m\n\u001b[1;32m     12\u001b[0m \u001b[39mfrom\u001b[39;00m \u001b[39mscipy\u001b[39;00m\u001b[39m.\u001b[39;00m\u001b[39msparse\u001b[39;00m \u001b[39mimport\u001b[39;00m csr_matrix, coo_matrix, isspmatrix_csr, vstack \u001b[39mas\u001b[39;00m sparse_vstack, issparse\n\u001b[1;32m     14\u001b[0m \u001b[39mimport\u001b[39;00m \u001b[39mheapq\u001b[39;00m\n\u001b[0;32m---> 16\u001b[0m \u001b[39mimport\u001b[39;00m \u001b[39mpynndescent\u001b[39;00m\u001b[39m.\u001b[39;00m\u001b[39msparse\u001b[39;00m \u001b[39mas\u001b[39;00m \u001b[39msparse\u001b[39;00m\n\u001b[1;32m     17\u001b[0m \u001b[39mimport\u001b[39;00m \u001b[39mpynndescent\u001b[39;00m\u001b[39m.\u001b[39;00m\u001b[39msparse_nndescent\u001b[39;00m \u001b[39mas\u001b[39;00m \u001b[39msparse_nnd\u001b[39;00m\n\u001b[1;32m     18\u001b[0m \u001b[39mimport\u001b[39;00m \u001b[39mpynndescent\u001b[39;00m\u001b[39m.\u001b[39;00m\u001b[39mdistances\u001b[39;00m \u001b[39mas\u001b[39;00m \u001b[39mpynnd_dist\u001b[39;00m\n",
      "File \u001b[0;32m~/.local/lib/python3.8/site-packages/pynndescent/sparse.py:515\u001b[0m, in \u001b[0;36m<module>\u001b[0;34m\u001b[0m\n\u001b[1;32m    498\u001b[0m     \u001b[39melse\u001b[39;00m:\n\u001b[1;32m    499\u001b[0m         \u001b[39mreturn\u001b[39;00m \u001b[39mfloat\u001b[39m(num_non_zero \u001b[39m-\u001b[39m num_equal) \u001b[39m/\u001b[39m num_non_zero\n\u001b[1;32m    502\u001b[0m \u001b[39m@numba\u001b[39;49m\u001b[39m.\u001b[39;49mnjit(\n\u001b[1;32m    503\u001b[0m     [\n\u001b[1;32m    504\u001b[0m         \u001b[39m\"\u001b[39;49m\u001b[39mf4(i4[::1],f4[::1],i4[::1],f4[::1])\u001b[39;49m\u001b[39m\"\u001b[39;49m,\n\u001b[1;32m    505\u001b[0m         numba\u001b[39m.\u001b[39;49mtypes\u001b[39m.\u001b[39;49mfloat32(\n\u001b[1;32m    506\u001b[0m             numba\u001b[39m.\u001b[39;49mtypes\u001b[39m.\u001b[39;49mArray(numba\u001b[39m.\u001b[39;49mtypes\u001b[39m.\u001b[39;49mint32, \u001b[39m1\u001b[39;49m, \u001b[39m\"\u001b[39;49m\u001b[39mC\u001b[39;49m\u001b[39m\"\u001b[39;49m, readonly\u001b[39m=\u001b[39;49m\u001b[39mTrue\u001b[39;49;00m),\n\u001b[1;32m    507\u001b[0m             numba\u001b[39m.\u001b[39;49mtypes\u001b[39m.\u001b[39;49mArray(numba\u001b[39m.\u001b[39;49mtypes\u001b[39m.\u001b[39;49mfloat32, \u001b[39m1\u001b[39;49m, \u001b[39m\"\u001b[39;49m\u001b[39mC\u001b[39;49m\u001b[39m\"\u001b[39;49m, readonly\u001b[39m=\u001b[39;49m\u001b[39mTrue\u001b[39;49;00m),\n\u001b[1;32m    508\u001b[0m             numba\u001b[39m.\u001b[39;49mtypes\u001b[39m.\u001b[39;49mArray(numba\u001b[39m.\u001b[39;49mtypes\u001b[39m.\u001b[39;49mint32, \u001b[39m1\u001b[39;49m, \u001b[39m\"\u001b[39;49m\u001b[39mC\u001b[39;49m\u001b[39m\"\u001b[39;49m, readonly\u001b[39m=\u001b[39;49m\u001b[39mTrue\u001b[39;49;00m),\n\u001b[1;32m    509\u001b[0m             numba\u001b[39m.\u001b[39;49mtypes\u001b[39m.\u001b[39;49mArray(numba\u001b[39m.\u001b[39;49mtypes\u001b[39m.\u001b[39;49mfloat32, \u001b[39m1\u001b[39;49m, \u001b[39m\"\u001b[39;49m\u001b[39mC\u001b[39;49m\u001b[39m\"\u001b[39;49m, readonly\u001b[39m=\u001b[39;49m\u001b[39mTrue\u001b[39;49;00m),\n\u001b[1;32m    510\u001b[0m         ),\n\u001b[1;32m    511\u001b[0m     ],\n\u001b[1;32m    512\u001b[0m     fastmath\u001b[39m=\u001b[39;49m\u001b[39mTrue\u001b[39;49;00m,\n\u001b[1;32m    513\u001b[0m     \u001b[39mlocals\u001b[39;49m\u001b[39m=\u001b[39;49m{\u001b[39m\"\u001b[39;49m\u001b[39mnum_non_zero\u001b[39;49m\u001b[39m\"\u001b[39;49m: numba\u001b[39m.\u001b[39;49mtypes\u001b[39m.\u001b[39;49mintp, \u001b[39m\"\u001b[39;49m\u001b[39mnum_equal\u001b[39;49m\u001b[39m\"\u001b[39;49m: numba\u001b[39m.\u001b[39;49mtypes\u001b[39m.\u001b[39;49mintp},\n\u001b[1;32m    514\u001b[0m )\n\u001b[0;32m--> 515\u001b[0m \u001b[39mdef\u001b[39;49;00m \u001b[39msparse_alternative_jaccard\u001b[39;49m(ind1, data1, ind2, data2):\n\u001b[1;32m    516\u001b[0m     num_equal \u001b[39m=\u001b[39;49m fast_intersection_size(ind1, ind2)\n\u001b[1;32m    517\u001b[0m     num_non_zero \u001b[39m=\u001b[39;49m ind1\u001b[39m.\u001b[39;49mshape[\u001b[39m0\u001b[39;49m] \u001b[39m+\u001b[39;49m ind2\u001b[39m.\u001b[39;49mshape[\u001b[39m0\u001b[39;49m] \u001b[39m-\u001b[39;49m num_equal\n",
      "File \u001b[0;32m~/.local/lib/python3.8/site-packages/numba/core/decorators.py:219\u001b[0m, in \u001b[0;36m_jit.<locals>.wrapper\u001b[0;34m(func)\u001b[0m\n\u001b[1;32m    217\u001b[0m     \u001b[39mwith\u001b[39;00m typeinfer\u001b[39m.\u001b[39mregister_dispatcher(disp):\n\u001b[1;32m    218\u001b[0m         \u001b[39mfor\u001b[39;00m sig \u001b[39min\u001b[39;00m sigs:\n\u001b[0;32m--> 219\u001b[0m             disp\u001b[39m.\u001b[39;49mcompile(sig)\n\u001b[1;32m    220\u001b[0m         disp\u001b[39m.\u001b[39mdisable_compile()\n\u001b[1;32m    221\u001b[0m \u001b[39mreturn\u001b[39;00m disp\n",
      "File \u001b[0;32m~/.local/lib/python3.8/site-packages/numba/core/dispatcher.py:965\u001b[0m, in \u001b[0;36mDispatcher.compile\u001b[0;34m(self, sig)\u001b[0m\n\u001b[1;32m    963\u001b[0m \u001b[39mwith\u001b[39;00m ev\u001b[39m.\u001b[39mtrigger_event(\u001b[39m\"\u001b[39m\u001b[39mnumba:compile\u001b[39m\u001b[39m\"\u001b[39m, data\u001b[39m=\u001b[39mev_details):\n\u001b[1;32m    964\u001b[0m     \u001b[39mtry\u001b[39;00m:\n\u001b[0;32m--> 965\u001b[0m         cres \u001b[39m=\u001b[39m \u001b[39mself\u001b[39;49m\u001b[39m.\u001b[39;49m_compiler\u001b[39m.\u001b[39;49mcompile(args, return_type)\n\u001b[1;32m    966\u001b[0m     \u001b[39mexcept\u001b[39;00m errors\u001b[39m.\u001b[39mForceLiteralArg \u001b[39mas\u001b[39;00m e:\n\u001b[1;32m    967\u001b[0m         \u001b[39mdef\u001b[39;00m \u001b[39mfolded\u001b[39m(args, kws):\n",
      "File \u001b[0;32m~/.local/lib/python3.8/site-packages/numba/core/dispatcher.py:125\u001b[0m, in \u001b[0;36m_FunctionCompiler.compile\u001b[0;34m(self, args, return_type)\u001b[0m\n\u001b[1;32m    124\u001b[0m \u001b[39mdef\u001b[39;00m \u001b[39mcompile\u001b[39m(\u001b[39mself\u001b[39m, args, return_type):\n\u001b[0;32m--> 125\u001b[0m     status, retval \u001b[39m=\u001b[39m \u001b[39mself\u001b[39;49m\u001b[39m.\u001b[39;49m_compile_cached(args, return_type)\n\u001b[1;32m    126\u001b[0m     \u001b[39mif\u001b[39;00m status:\n\u001b[1;32m    127\u001b[0m         \u001b[39mreturn\u001b[39;00m retval\n",
      "File \u001b[0;32m~/.local/lib/python3.8/site-packages/numba/core/dispatcher.py:139\u001b[0m, in \u001b[0;36m_FunctionCompiler._compile_cached\u001b[0;34m(self, args, return_type)\u001b[0m\n\u001b[1;32m    136\u001b[0m     \u001b[39mpass\u001b[39;00m\n\u001b[1;32m    138\u001b[0m \u001b[39mtry\u001b[39;00m:\n\u001b[0;32m--> 139\u001b[0m     retval \u001b[39m=\u001b[39m \u001b[39mself\u001b[39;49m\u001b[39m.\u001b[39;49m_compile_core(args, return_type)\n\u001b[1;32m    140\u001b[0m \u001b[39mexcept\u001b[39;00m errors\u001b[39m.\u001b[39mTypingError \u001b[39mas\u001b[39;00m e:\n\u001b[1;32m    141\u001b[0m     \u001b[39mself\u001b[39m\u001b[39m.\u001b[39m_failed_cache[key] \u001b[39m=\u001b[39m e\n",
      "File \u001b[0;32m~/.local/lib/python3.8/site-packages/numba/core/dispatcher.py:152\u001b[0m, in \u001b[0;36m_FunctionCompiler._compile_core\u001b[0;34m(self, args, return_type)\u001b[0m\n\u001b[1;32m    149\u001b[0m flags \u001b[39m=\u001b[39m \u001b[39mself\u001b[39m\u001b[39m.\u001b[39m_customize_flags(flags)\n\u001b[1;32m    151\u001b[0m impl \u001b[39m=\u001b[39m \u001b[39mself\u001b[39m\u001b[39m.\u001b[39m_get_implementation(args, {})\n\u001b[0;32m--> 152\u001b[0m cres \u001b[39m=\u001b[39m compiler\u001b[39m.\u001b[39;49mcompile_extra(\u001b[39mself\u001b[39;49m\u001b[39m.\u001b[39;49mtargetdescr\u001b[39m.\u001b[39;49mtyping_context,\n\u001b[1;32m    153\u001b[0m                               \u001b[39mself\u001b[39;49m\u001b[39m.\u001b[39;49mtargetdescr\u001b[39m.\u001b[39;49mtarget_context,\n\u001b[1;32m    154\u001b[0m                               impl,\n\u001b[1;32m    155\u001b[0m                               args\u001b[39m=\u001b[39;49margs, return_type\u001b[39m=\u001b[39;49mreturn_type,\n\u001b[1;32m    156\u001b[0m                               flags\u001b[39m=\u001b[39;49mflags, \u001b[39mlocals\u001b[39;49m\u001b[39m=\u001b[39;49m\u001b[39mself\u001b[39;49m\u001b[39m.\u001b[39;49mlocals,\n\u001b[1;32m    157\u001b[0m                               pipeline_class\u001b[39m=\u001b[39;49m\u001b[39mself\u001b[39;49m\u001b[39m.\u001b[39;49mpipeline_class)\n\u001b[1;32m    158\u001b[0m \u001b[39m# Check typing error if object mode is used\u001b[39;00m\n\u001b[1;32m    159\u001b[0m \u001b[39mif\u001b[39;00m cres\u001b[39m.\u001b[39mtyping_error \u001b[39mis\u001b[39;00m \u001b[39mnot\u001b[39;00m \u001b[39mNone\u001b[39;00m \u001b[39mand\u001b[39;00m \u001b[39mnot\u001b[39;00m flags\u001b[39m.\u001b[39menable_pyobject:\n",
      "File \u001b[0;32m~/.local/lib/python3.8/site-packages/numba/core/compiler.py:716\u001b[0m, in \u001b[0;36mcompile_extra\u001b[0;34m(typingctx, targetctx, func, args, return_type, flags, locals, library, pipeline_class)\u001b[0m\n\u001b[1;32m    692\u001b[0m \u001b[39m\"\"\"Compiler entry point\u001b[39;00m\n\u001b[1;32m    693\u001b[0m \n\u001b[1;32m    694\u001b[0m \u001b[39mParameter\u001b[39;00m\n\u001b[0;32m   (...)\u001b[0m\n\u001b[1;32m    712\u001b[0m \u001b[39m    compiler pipeline\u001b[39;00m\n\u001b[1;32m    713\u001b[0m \u001b[39m\"\"\"\u001b[39;00m\n\u001b[1;32m    714\u001b[0m pipeline \u001b[39m=\u001b[39m pipeline_class(typingctx, targetctx, library,\n\u001b[1;32m    715\u001b[0m                           args, return_type, flags, \u001b[39mlocals\u001b[39m)\n\u001b[0;32m--> 716\u001b[0m \u001b[39mreturn\u001b[39;00m pipeline\u001b[39m.\u001b[39;49mcompile_extra(func)\n",
      "File \u001b[0;32m~/.local/lib/python3.8/site-packages/numba/core/compiler.py:452\u001b[0m, in \u001b[0;36mCompilerBase.compile_extra\u001b[0;34m(self, func)\u001b[0m\n\u001b[1;32m    450\u001b[0m \u001b[39mself\u001b[39m\u001b[39m.\u001b[39mstate\u001b[39m.\u001b[39mlifted \u001b[39m=\u001b[39m ()\n\u001b[1;32m    451\u001b[0m \u001b[39mself\u001b[39m\u001b[39m.\u001b[39mstate\u001b[39m.\u001b[39mlifted_from \u001b[39m=\u001b[39m \u001b[39mNone\u001b[39;00m\n\u001b[0;32m--> 452\u001b[0m \u001b[39mreturn\u001b[39;00m \u001b[39mself\u001b[39;49m\u001b[39m.\u001b[39;49m_compile_bytecode()\n",
      "File \u001b[0;32m~/.local/lib/python3.8/site-packages/numba/core/compiler.py:520\u001b[0m, in \u001b[0;36mCompilerBase._compile_bytecode\u001b[0;34m(self)\u001b[0m\n\u001b[1;32m    516\u001b[0m \u001b[39m\"\"\"\u001b[39;00m\n\u001b[1;32m    517\u001b[0m \u001b[39mPopulate and run pipeline for bytecode input\u001b[39;00m\n\u001b[1;32m    518\u001b[0m \u001b[39m\"\"\"\u001b[39;00m\n\u001b[1;32m    519\u001b[0m \u001b[39massert\u001b[39;00m \u001b[39mself\u001b[39m\u001b[39m.\u001b[39mstate\u001b[39m.\u001b[39mfunc_ir \u001b[39mis\u001b[39;00m \u001b[39mNone\u001b[39;00m\n\u001b[0;32m--> 520\u001b[0m \u001b[39mreturn\u001b[39;00m \u001b[39mself\u001b[39;49m\u001b[39m.\u001b[39;49m_compile_core()\n",
      "File \u001b[0;32m~/.local/lib/python3.8/site-packages/numba/core/compiler.py:486\u001b[0m, in \u001b[0;36mCompilerBase._compile_core\u001b[0;34m(self)\u001b[0m\n\u001b[1;32m    484\u001b[0m res \u001b[39m=\u001b[39m \u001b[39mNone\u001b[39;00m\n\u001b[1;32m    485\u001b[0m \u001b[39mtry\u001b[39;00m:\n\u001b[0;32m--> 486\u001b[0m     pm\u001b[39m.\u001b[39;49mrun(\u001b[39mself\u001b[39;49m\u001b[39m.\u001b[39;49mstate)\n\u001b[1;32m    487\u001b[0m     \u001b[39mif\u001b[39;00m \u001b[39mself\u001b[39m\u001b[39m.\u001b[39mstate\u001b[39m.\u001b[39mcr \u001b[39mis\u001b[39;00m \u001b[39mnot\u001b[39;00m \u001b[39mNone\u001b[39;00m:\n\u001b[1;32m    488\u001b[0m         \u001b[39mbreak\u001b[39;00m\n",
      "File \u001b[0;32m~/.local/lib/python3.8/site-packages/numba/core/compiler_machinery.py:356\u001b[0m, in \u001b[0;36mPassManager.run\u001b[0;34m(self, state)\u001b[0m\n\u001b[1;32m    354\u001b[0m pass_inst \u001b[39m=\u001b[39m _pass_registry\u001b[39m.\u001b[39mget(pss)\u001b[39m.\u001b[39mpass_inst\n\u001b[1;32m    355\u001b[0m \u001b[39mif\u001b[39;00m \u001b[39misinstance\u001b[39m(pass_inst, CompilerPass):\n\u001b[0;32m--> 356\u001b[0m     \u001b[39mself\u001b[39;49m\u001b[39m.\u001b[39;49m_runPass(idx, pass_inst, state)\n\u001b[1;32m    357\u001b[0m \u001b[39melse\u001b[39;00m:\n\u001b[1;32m    358\u001b[0m     \u001b[39mraise\u001b[39;00m \u001b[39mBaseException\u001b[39;00m(\u001b[39m\"\u001b[39m\u001b[39mLegacy pass in use\u001b[39m\u001b[39m\"\u001b[39m)\n",
      "File \u001b[0;32m~/.local/lib/python3.8/site-packages/numba/core/compiler_lock.py:35\u001b[0m, in \u001b[0;36m_CompilerLock.__call__.<locals>._acquire_compile_lock\u001b[0;34m(*args, **kwargs)\u001b[0m\n\u001b[1;32m     32\u001b[0m \u001b[39m@functools\u001b[39m\u001b[39m.\u001b[39mwraps(func)\n\u001b[1;32m     33\u001b[0m \u001b[39mdef\u001b[39;00m \u001b[39m_acquire_compile_lock\u001b[39m(\u001b[39m*\u001b[39margs, \u001b[39m*\u001b[39m\u001b[39m*\u001b[39mkwargs):\n\u001b[1;32m     34\u001b[0m     \u001b[39mwith\u001b[39;00m \u001b[39mself\u001b[39m:\n\u001b[0;32m---> 35\u001b[0m         \u001b[39mreturn\u001b[39;00m func(\u001b[39m*\u001b[39;49margs, \u001b[39m*\u001b[39;49m\u001b[39m*\u001b[39;49mkwargs)\n",
      "File \u001b[0;32m~/.local/lib/python3.8/site-packages/numba/core/compiler_machinery.py:311\u001b[0m, in \u001b[0;36mPassManager._runPass\u001b[0;34m(self, index, pss, internal_state)\u001b[0m\n\u001b[1;32m    309\u001b[0m     mutated \u001b[39m|\u001b[39m\u001b[39m=\u001b[39m check(pss\u001b[39m.\u001b[39mrun_initialization, internal_state)\n\u001b[1;32m    310\u001b[0m \u001b[39mwith\u001b[39;00m SimpleTimer() \u001b[39mas\u001b[39;00m pass_time:\n\u001b[0;32m--> 311\u001b[0m     mutated \u001b[39m|\u001b[39m\u001b[39m=\u001b[39m check(pss\u001b[39m.\u001b[39;49mrun_pass, internal_state)\n\u001b[1;32m    312\u001b[0m \u001b[39mwith\u001b[39;00m SimpleTimer() \u001b[39mas\u001b[39;00m finalize_time:\n\u001b[1;32m    313\u001b[0m     mutated \u001b[39m|\u001b[39m\u001b[39m=\u001b[39m check(pss\u001b[39m.\u001b[39mrun_finalizer, internal_state)\n",
      "File \u001b[0;32m~/.local/lib/python3.8/site-packages/numba/core/compiler_machinery.py:273\u001b[0m, in \u001b[0;36mPassManager._runPass.<locals>.check\u001b[0;34m(func, compiler_state)\u001b[0m\n\u001b[1;32m    272\u001b[0m \u001b[39mdef\u001b[39;00m \u001b[39mcheck\u001b[39m(func, compiler_state):\n\u001b[0;32m--> 273\u001b[0m     mangled \u001b[39m=\u001b[39m func(compiler_state)\n\u001b[1;32m    274\u001b[0m     \u001b[39mif\u001b[39;00m mangled \u001b[39mnot\u001b[39;00m \u001b[39min\u001b[39;00m (\u001b[39mTrue\u001b[39;00m, \u001b[39mFalse\u001b[39;00m):\n\u001b[1;32m    275\u001b[0m         msg \u001b[39m=\u001b[39m (\u001b[39m\"\u001b[39m\u001b[39mCompilerPass implementations should return True/False. \u001b[39m\u001b[39m\"\u001b[39m\n\u001b[1;32m    276\u001b[0m                \u001b[39m\"\u001b[39m\u001b[39mCompilerPass with name \u001b[39m\u001b[39m'\u001b[39m\u001b[39m%s\u001b[39;00m\u001b[39m'\u001b[39m\u001b[39m did not.\u001b[39m\u001b[39m\"\u001b[39m)\n",
      "File \u001b[0;32m~/.local/lib/python3.8/site-packages/numba/core/typed_passes.py:394\u001b[0m, in \u001b[0;36mNativeLowering.run_pass\u001b[0;34m(self, state)\u001b[0m\n\u001b[1;32m    391\u001b[0m \u001b[39mwith\u001b[39;00m targetctx\u001b[39m.\u001b[39mpush_code_library(library):\n\u001b[1;32m    392\u001b[0m     lower \u001b[39m=\u001b[39m lowering\u001b[39m.\u001b[39mLower(targetctx, library, fndesc, interp,\n\u001b[1;32m    393\u001b[0m                            metadata\u001b[39m=\u001b[39mmetadata)\n\u001b[0;32m--> 394\u001b[0m     lower\u001b[39m.\u001b[39;49mlower()\n\u001b[1;32m    395\u001b[0m     \u001b[39mif\u001b[39;00m \u001b[39mnot\u001b[39;00m flags\u001b[39m.\u001b[39mno_cpython_wrapper:\n\u001b[1;32m    396\u001b[0m         lower\u001b[39m.\u001b[39mcreate_cpython_wrapper(flags\u001b[39m.\u001b[39mrelease_gil)\n",
      "File \u001b[0;32m~/.local/lib/python3.8/site-packages/numba/core/lowering.py:168\u001b[0m, in \u001b[0;36mBaseLower.lower\u001b[0;34m(self)\u001b[0m\n\u001b[1;32m    166\u001b[0m \u001b[39mif\u001b[39;00m \u001b[39mself\u001b[39m\u001b[39m.\u001b[39mgenerator_info \u001b[39mis\u001b[39;00m \u001b[39mNone\u001b[39;00m:\n\u001b[1;32m    167\u001b[0m     \u001b[39mself\u001b[39m\u001b[39m.\u001b[39mgenlower \u001b[39m=\u001b[39m \u001b[39mNone\u001b[39;00m\n\u001b[0;32m--> 168\u001b[0m     \u001b[39mself\u001b[39;49m\u001b[39m.\u001b[39;49mlower_normal_function(\u001b[39mself\u001b[39;49m\u001b[39m.\u001b[39;49mfndesc)\n\u001b[1;32m    169\u001b[0m \u001b[39melse\u001b[39;00m:\n\u001b[1;32m    170\u001b[0m     \u001b[39mself\u001b[39m\u001b[39m.\u001b[39mgenlower \u001b[39m=\u001b[39m \u001b[39mself\u001b[39m\u001b[39m.\u001b[39mGeneratorLower(\u001b[39mself\u001b[39m)\n",
      "File \u001b[0;32m~/.local/lib/python3.8/site-packages/numba/core/lowering.py:222\u001b[0m, in \u001b[0;36mBaseLower.lower_normal_function\u001b[0;34m(self, fndesc)\u001b[0m\n\u001b[1;32m    220\u001b[0m \u001b[39m# Init argument values\u001b[39;00m\n\u001b[1;32m    221\u001b[0m \u001b[39mself\u001b[39m\u001b[39m.\u001b[39mextract_function_arguments()\n\u001b[0;32m--> 222\u001b[0m entry_block_tail \u001b[39m=\u001b[39m \u001b[39mself\u001b[39;49m\u001b[39m.\u001b[39;49mlower_function_body()\n\u001b[1;32m    224\u001b[0m \u001b[39m# Close tail of entry block, do not emit debug metadata else the\u001b[39;00m\n\u001b[1;32m    225\u001b[0m \u001b[39m# unconditional jump gets associated with the metadata from the function\u001b[39;00m\n\u001b[1;32m    226\u001b[0m \u001b[39m# body end.\u001b[39;00m\n\u001b[1;32m    227\u001b[0m \u001b[39mwith\u001b[39;00m debuginfo\u001b[39m.\u001b[39msuspend_emission(\u001b[39mself\u001b[39m\u001b[39m.\u001b[39mbuilder):\n",
      "File \u001b[0;32m~/.local/lib/python3.8/site-packages/numba/core/lowering.py:251\u001b[0m, in \u001b[0;36mBaseLower.lower_function_body\u001b[0;34m(self)\u001b[0m\n\u001b[1;32m    249\u001b[0m     bb \u001b[39m=\u001b[39m \u001b[39mself\u001b[39m\u001b[39m.\u001b[39mblkmap[offset]\n\u001b[1;32m    250\u001b[0m     \u001b[39mself\u001b[39m\u001b[39m.\u001b[39mbuilder\u001b[39m.\u001b[39mposition_at_end(bb)\n\u001b[0;32m--> 251\u001b[0m     \u001b[39mself\u001b[39;49m\u001b[39m.\u001b[39;49mlower_block(block)\n\u001b[1;32m    252\u001b[0m \u001b[39mself\u001b[39m\u001b[39m.\u001b[39mpost_lower()\n\u001b[1;32m    253\u001b[0m \u001b[39mreturn\u001b[39;00m entry_block_tail\n",
      "File \u001b[0;32m~/.local/lib/python3.8/site-packages/numba/core/lowering.py:265\u001b[0m, in \u001b[0;36mBaseLower.lower_block\u001b[0;34m(self, block)\u001b[0m\n\u001b[1;32m    262\u001b[0m     defaulterrcls \u001b[39m=\u001b[39m partial(LoweringError, loc\u001b[39m=\u001b[39m\u001b[39mself\u001b[39m\u001b[39m.\u001b[39mloc)\n\u001b[1;32m    263\u001b[0m     \u001b[39mwith\u001b[39;00m new_error_context(\u001b[39m'\u001b[39m\u001b[39mlowering \u001b[39m\u001b[39m\"\u001b[39m\u001b[39m{inst}\u001b[39;00m\u001b[39m\"\u001b[39m\u001b[39m at \u001b[39m\u001b[39m{loc}\u001b[39;00m\u001b[39m'\u001b[39m, inst\u001b[39m=\u001b[39minst,\n\u001b[1;32m    264\u001b[0m                            loc\u001b[39m=\u001b[39m\u001b[39mself\u001b[39m\u001b[39m.\u001b[39mloc, errcls_\u001b[39m=\u001b[39mdefaulterrcls):\n\u001b[0;32m--> 265\u001b[0m         \u001b[39mself\u001b[39;49m\u001b[39m.\u001b[39;49mlower_inst(inst)\n\u001b[1;32m    266\u001b[0m \u001b[39mself\u001b[39m\u001b[39m.\u001b[39mpost_block(block)\n",
      "File \u001b[0;32m~/.local/lib/python3.8/site-packages/numba/core/lowering.py:447\u001b[0m, in \u001b[0;36mLower.lower_inst\u001b[0;34m(self, inst)\u001b[0m\n\u001b[1;32m    445\u001b[0m         \u001b[39mself\u001b[39m\u001b[39m.\u001b[39mdebuginfo\u001b[39m.\u001b[39mmark_location(\u001b[39mself\u001b[39m\u001b[39m.\u001b[39mbuilder, \u001b[39mself\u001b[39m\u001b[39m.\u001b[39mdefn_loc\u001b[39m.\u001b[39mline)\n\u001b[1;32m    446\u001b[0m         argidx \u001b[39m=\u001b[39m inst\u001b[39m.\u001b[39mvalue\u001b[39m.\u001b[39mindex \u001b[39m+\u001b[39m \u001b[39m1\u001b[39m \u001b[39m# args start at 1\u001b[39;00m\n\u001b[0;32m--> 447\u001b[0m     \u001b[39mself\u001b[39;49m\u001b[39m.\u001b[39;49mstorevar(val, inst\u001b[39m.\u001b[39;49mtarget\u001b[39m.\u001b[39;49mname, argidx\u001b[39m=\u001b[39;49margidx)\n\u001b[1;32m    449\u001b[0m \u001b[39melif\u001b[39;00m \u001b[39misinstance\u001b[39m(inst, ir\u001b[39m.\u001b[39mBranch):\n\u001b[1;32m    450\u001b[0m     cond \u001b[39m=\u001b[39m \u001b[39mself\u001b[39m\u001b[39m.\u001b[39mloadvar(inst\u001b[39m.\u001b[39mcond\u001b[39m.\u001b[39mname)\n",
      "File \u001b[0;32m~/.local/lib/python3.8/site-packages/numba/core/lowering.py:1422\u001b[0m, in \u001b[0;36mLower.storevar\u001b[0;34m(self, value, name, argidx)\u001b[0m\n\u001b[1;32m   1420\u001b[0m fetype \u001b[39m=\u001b[39m \u001b[39mself\u001b[39m\u001b[39m.\u001b[39mtypeof(name)\n\u001b[1;32m   1421\u001b[0m \u001b[39m# Define if not already\u001b[39;00m\n\u001b[0;32m-> 1422\u001b[0m \u001b[39mself\u001b[39;49m\u001b[39m.\u001b[39;49m_alloca_var(name, fetype)\n\u001b[1;32m   1424\u001b[0m \u001b[39m# Store variable\u001b[39;00m\n\u001b[1;32m   1425\u001b[0m \u001b[39mif\u001b[39;00m (name \u001b[39min\u001b[39;00m \u001b[39mself\u001b[39m\u001b[39m.\u001b[39m_singly_assigned_vars \u001b[39mand\u001b[39;00m\n\u001b[1;32m   1426\u001b[0m         \u001b[39mnot\u001b[39;00m \u001b[39mself\u001b[39m\u001b[39m.\u001b[39m_disable_sroa_like_opt):\n",
      "File \u001b[0;32m~/.local/lib/python3.8/site-packages/numba/core/lowering.py:1385\u001b[0m, in \u001b[0;36mLower._alloca_var\u001b[0;34m(self, name, fetype)\u001b[0m\n\u001b[1;32m   1381\u001b[0m \u001b[39m# If the name is used in multiple blocks or lowering with debuginfo...\u001b[39;00m\n\u001b[1;32m   1382\u001b[0m \u001b[39mif\u001b[39;00m ((name \u001b[39mnot\u001b[39;00m \u001b[39min\u001b[39;00m \u001b[39mself\u001b[39m\u001b[39m.\u001b[39m_singly_assigned_vars) \u001b[39mor\u001b[39;00m\n\u001b[1;32m   1383\u001b[0m         \u001b[39mself\u001b[39m\u001b[39m.\u001b[39m_disable_sroa_like_opt):\n\u001b[1;32m   1384\u001b[0m     \u001b[39m# If not already defined, allocate it\u001b[39;00m\n\u001b[0;32m-> 1385\u001b[0m     ptr \u001b[39m=\u001b[39m \u001b[39mself\u001b[39;49m\u001b[39m.\u001b[39;49malloca(name, fetype)\n\u001b[1;32m   1386\u001b[0m     \u001b[39m# Remember the pointer\u001b[39;00m\n\u001b[1;32m   1387\u001b[0m     \u001b[39mself\u001b[39m\u001b[39m.\u001b[39mvarmap[name] \u001b[39m=\u001b[39m ptr\n",
      "File \u001b[0;32m~/.local/lib/python3.8/site-packages/numba/core/lowering.py:1490\u001b[0m, in \u001b[0;36mLower.alloca\u001b[0;34m(self, name, type)\u001b[0m\n\u001b[1;32m   1488\u001b[0m lltype \u001b[39m=\u001b[39m \u001b[39mself\u001b[39m\u001b[39m.\u001b[39mcontext\u001b[39m.\u001b[39mget_value_type(\u001b[39mtype\u001b[39m)\n\u001b[1;32m   1489\u001b[0m datamodel \u001b[39m=\u001b[39m \u001b[39mself\u001b[39m\u001b[39m.\u001b[39mcontext\u001b[39m.\u001b[39mdata_model_manager[\u001b[39mtype\u001b[39m]\n\u001b[0;32m-> 1490\u001b[0m \u001b[39mreturn\u001b[39;00m \u001b[39mself\u001b[39;49m\u001b[39m.\u001b[39;49malloca_lltype(name, lltype, datamodel\u001b[39m=\u001b[39;49mdatamodel)\n",
      "File \u001b[0;32m~/.local/lib/python3.8/site-packages/numba/core/lowering.py:1505\u001b[0m, in \u001b[0;36mLower.alloca_lltype\u001b[0;34m(self, name, lltype, datamodel)\u001b[0m\n\u001b[1;32m   1500\u001b[0m \u001b[39mif\u001b[39;00m is_uservar:\n\u001b[1;32m   1501\u001b[0m     \u001b[39m# Don't associate debuginfo with the alloca for a function arg, this\u001b[39;00m\n\u001b[1;32m   1502\u001b[0m     \u001b[39m# is handled by the first store to the alloca so that repacking the\u001b[39;00m\n\u001b[1;32m   1503\u001b[0m     \u001b[39m# splatted args from the CC is dealt with.\u001b[39;00m\n\u001b[1;32m   1504\u001b[0m     \u001b[39mif\u001b[39;00m name \u001b[39mnot\u001b[39;00m \u001b[39min\u001b[39;00m \u001b[39mself\u001b[39m\u001b[39m.\u001b[39mfunc_ir\u001b[39m.\u001b[39marg_names:\n\u001b[0;32m-> 1505\u001b[0m         sizeof \u001b[39m=\u001b[39m \u001b[39mself\u001b[39;49m\u001b[39m.\u001b[39;49mcontext\u001b[39m.\u001b[39;49mget_abi_sizeof(lltype)\n\u001b[1;32m   1506\u001b[0m         \u001b[39mself\u001b[39m\u001b[39m.\u001b[39mdebuginfo\u001b[39m.\u001b[39mmark_variable(\u001b[39mself\u001b[39m\u001b[39m.\u001b[39mbuilder, aptr, name\u001b[39m=\u001b[39mname,\n\u001b[1;32m   1507\u001b[0m                                      lltype\u001b[39m=\u001b[39mlltype, size\u001b[39m=\u001b[39msizeof,\n\u001b[1;32m   1508\u001b[0m                                      line\u001b[39m=\u001b[39m\u001b[39mself\u001b[39m\u001b[39m.\u001b[39mloc\u001b[39m.\u001b[39mline,\n\u001b[1;32m   1509\u001b[0m                                      datamodel\u001b[39m=\u001b[39mdatamodel,)\n\u001b[1;32m   1510\u001b[0m \u001b[39mreturn\u001b[39;00m aptr\n",
      "File \u001b[0;32m~/.local/lib/python3.8/site-packages/numba/core/base.py:1105\u001b[0m, in \u001b[0;36mBaseContext.get_abi_sizeof\u001b[0;34m(self, ty)\u001b[0m\n\u001b[1;32m   1101\u001b[0m \u001b[39m\"\"\"\u001b[39;00m\n\u001b[1;32m   1102\u001b[0m \u001b[39mGet the ABI size of LLVM type *ty*.\u001b[39;00m\n\u001b[1;32m   1103\u001b[0m \u001b[39m\"\"\"\u001b[39;00m\n\u001b[1;32m   1104\u001b[0m \u001b[39massert\u001b[39;00m \u001b[39misinstance\u001b[39m(ty, llvmir\u001b[39m.\u001b[39mType), \u001b[39m\"\u001b[39m\u001b[39mExpected LLVM type\u001b[39m\u001b[39m\"\u001b[39m\n\u001b[0;32m-> 1105\u001b[0m \u001b[39mreturn\u001b[39;00m ty\u001b[39m.\u001b[39;49mget_abi_size(\u001b[39mself\u001b[39;49m\u001b[39m.\u001b[39;49mtarget_data)\n",
      "File \u001b[0;32m~/.local/lib/python3.8/site-packages/llvmlite/ir/types.py:52\u001b[0m, in \u001b[0;36mType.get_abi_size\u001b[0;34m(self, target_data, context)\u001b[0m\n\u001b[1;32m     48\u001b[0m \u001b[39mdef\u001b[39;00m \u001b[39mget_abi_size\u001b[39m(\u001b[39mself\u001b[39m, target_data, context\u001b[39m=\u001b[39m\u001b[39mNone\u001b[39;00m):\n\u001b[1;32m     49\u001b[0m     \u001b[39m\"\"\"\u001b[39;00m\n\u001b[1;32m     50\u001b[0m \u001b[39m    Get the ABI size of this type according to data layout *target_data*.\u001b[39;00m\n\u001b[1;32m     51\u001b[0m \u001b[39m    \"\"\"\u001b[39;00m\n\u001b[0;32m---> 52\u001b[0m     llty \u001b[39m=\u001b[39m \u001b[39mself\u001b[39;49m\u001b[39m.\u001b[39;49m_get_ll_pointer_type(target_data, context)\n\u001b[1;32m     53\u001b[0m     \u001b[39mreturn\u001b[39;00m target_data\u001b[39m.\u001b[39mget_pointee_abi_size(llty)\n",
      "File \u001b[0;32m~/.local/lib/python3.8/site-packages/llvmlite/ir/types.py:44\u001b[0m, in \u001b[0;36mType._get_ll_pointer_type\u001b[0;34m(self, target_data, context)\u001b[0m\n\u001b[1;32m     42\u001b[0m \u001b[39melse\u001b[39;00m:\n\u001b[1;32m     43\u001b[0m     m \u001b[39m=\u001b[39m Module(context\u001b[39m=\u001b[39mcontext)\n\u001b[0;32m---> 44\u001b[0m foo \u001b[39m=\u001b[39m GlobalVariable(m, \u001b[39mself\u001b[39;49m, name\u001b[39m=\u001b[39;49m\u001b[39m\"\u001b[39;49m\u001b[39mfoo\u001b[39;49m\u001b[39m\"\u001b[39;49m)\n\u001b[1;32m     45\u001b[0m \u001b[39mwith\u001b[39;00m parse_assembly(\u001b[39mstr\u001b[39m(m)) \u001b[39mas\u001b[39;00m llmod:\n\u001b[1;32m     46\u001b[0m     \u001b[39mreturn\u001b[39;00m llmod\u001b[39m.\u001b[39mget_global_variable(foo\u001b[39m.\u001b[39mname)\u001b[39m.\u001b[39mtype\n",
      "File \u001b[0;32m~/.local/lib/python3.8/site-packages/llvmlite/ir/values.py:794\u001b[0m, in \u001b[0;36mGlobalVariable.__init__\u001b[0;34m(self, module, typ, name, addrspace)\u001b[0m\n\u001b[1;32m    789\u001b[0m \u001b[39mclass\u001b[39;00m \u001b[39mGlobalVariable\u001b[39;00m(GlobalValue):\n\u001b[1;32m    790\u001b[0m     \u001b[39m\"\"\"\u001b[39;00m\n\u001b[1;32m    791\u001b[0m \u001b[39m    A global variable.\u001b[39;00m\n\u001b[1;32m    792\u001b[0m \u001b[39m    \"\"\"\u001b[39;00m\n\u001b[0;32m--> 794\u001b[0m     \u001b[39mdef\u001b[39;00m \u001b[39m__init__\u001b[39m(\u001b[39mself\u001b[39m, module, typ, name, addrspace\u001b[39m=\u001b[39m\u001b[39m0\u001b[39m):\n\u001b[1;32m    795\u001b[0m         \u001b[39massert\u001b[39;00m \u001b[39misinstance\u001b[39m(typ, types\u001b[39m.\u001b[39mType)\n\u001b[1;32m    796\u001b[0m         \u001b[39msuper\u001b[39m(GlobalVariable, \u001b[39mself\u001b[39m)\u001b[39m.\u001b[39m\u001b[39m__init__\u001b[39m(module, typ\u001b[39m.\u001b[39mas_pointer(addrspace),\n\u001b[1;32m    797\u001b[0m                                              name\u001b[39m=\u001b[39mname)\n",
      "\u001b[0;31mKeyboardInterrupt\u001b[0m: "
     ]
    }
   ],
   "source": [
    "import glob\n",
    "import numpy as np\n",
    "import scanpy as sc\n",
    "from pcaeval.pca_eval import evaluate_anndata_file_list, plot_sing_vals_exp_var, process, preprocess, evaluate_anndata, print_dict_results"
   ]
  },
  {
   "cell_type": "code",
   "execution_count": null,
   "metadata": {},
   "outputs": [],
   "source": [
    "wd = '/home/davi/Bioinfo/PCA_distortion/'\n",
    "data_dir = '/home/davi/Bioinfo/BenchmarkDatasets/data/'\n",
    "save_dir = '/home/davi/Bioinfo/BenchmarkDatasets/pca_distortion_results/'\n",
    "\n",
    "adata_files = glob.glob(data_dir + '*.h5ad')\n",
    "adata_files"
   ]
  },
  {
   "cell_type": "code",
   "execution_count": null,
   "metadata": {},
   "outputs": [],
   "source": [
    "sc.settings.n_jobs = 12"
   ]
  },
  {
   "cell_type": "code",
   "execution_count": null,
   "metadata": {},
   "outputs": [],
   "source": [
    "# from pcaeval.pca_eval import evaluate_anndata, plot_sing_vals_exp_var, print_dict_results\n",
    "\n",
    "# adata = sc.read_h5ad(adata_files[1])\n",
    "# # Input: a filtered, unnormalized AnnData object\n",
    "# # If already normalized, set norm_log_hvg=False\n",
    "# res_dict, adata = evaluate_anndata(adata, norm_log_hvg=True, n_jobs=-1)\n",
    "# dict = {'C elegans':res_dict}\n",
    "# print_dict_results(dict)"
   ]
  },
  {
   "cell_type": "code",
   "execution_count": null,
   "metadata": {},
   "outputs": [],
   "source": [
    "results_dict = evaluate_anndata_file_list(adata_files, n_pcs=100,\n",
    " metric='euclidean', n_neighbors=10, save_intermediate=True, save_dir=save_dir, verbose=True,\n",
    "  not_normalize_idx=[13], return_dict=True)"
   ]
  },
  {
   "cell_type": "code",
   "execution_count": null,
   "metadata": {},
   "outputs": [],
   "source": [
    "print_dict_results(results_dict)"
   ]
  },
  {
   "cell_type": "code",
   "execution_count": null,
   "metadata": {},
   "outputs": [],
   "source": [
    "plot_sing_vals_exp_var(results_dict, fontsize=10)"
   ]
  },
  {
   "cell_type": "code",
   "execution_count": null,
   "metadata": {},
   "outputs": [],
   "source": [
    "# Mean total explained variance\n",
    "total_var_list = []\n",
    "for i, dataset in enumerate(results_dict):\n",
    "    total_var_list.append(results_dict[dataset]['explained_variance'].max())\n",
    "\n",
    "print('Mean total explained variance: {}'.format(np.mean(total_var_list)))"
   ]
  },
  {
   "cell_type": "code",
   "execution_count": null,
   "metadata": {},
   "outputs": [],
   "source": [
    "np.std(total_var_list)"
   ]
  },
  {
   "cell_type": "code",
   "execution_count": null,
   "metadata": {},
   "outputs": [],
   "source": [
    "for i, dataset_name in enumerate(results_dict):\n",
    "    print('\\n \\n  --- ' + str(dataset_name) + ' --- ' +\n",
    " '\\n Spearman R correlation between the k-nearest-neighbors graphs learned from the data and the Principal Components: %f'%results_dict['graph_correlation'] +\n",
    " '\\n Spearman R correlation between the geodesic distances in UMAP embeddings learned from these graphs %f'%results_dict['embedding_correlation'] +\n",
    " '\\n Total explained variance with the first 100 PCs: %f'%results_dict['explained_variance'].max() +\n",
    " '\\n Adjusted rand index (ARI) between clustering on top 100 PCs and on full data: %f'%results_dict['adjusted_rand_score'])"
   ]
  }
 ],
 "metadata": {
  "kernelspec": {
   "display_name": "Python 3.8.10 64-bit",
   "language": "python",
   "name": "python3"
  },
  "language_info": {
   "codemirror_mode": {
    "name": "ipython",
    "version": 3
   },
   "file_extension": ".py",
   "mimetype": "text/x-python",
   "name": "python",
   "nbconvert_exporter": "python",
   "pygments_lexer": "ipython3",
   "version": "3.8.10"
  },
  "orig_nbformat": 4,
  "vscode": {
   "interpreter": {
    "hash": "e7370f93d1d0cde622a1f8e1c04877d8463912d04d973331ad4851f04de6915a"
   }
  }
 },
 "nbformat": 4,
 "nbformat_minor": 2
}
