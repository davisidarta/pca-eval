{
 "cells": [
  {
   "cell_type": "markdown",
   "metadata": {},
   "source": [
    "## Some validations:\n",
    "\n",
    "* That the kNN Spearman R is ~1.0 when representations are near identical (e.g. shuffled)"
   ]
  },
  {
   "cell_type": "code",
   "execution_count": 12,
   "metadata": {},
   "outputs": [],
   "source": [
    "import numpy as np\n",
    "import scanpy as sc\n",
    "from pcaeval.pca_eval import evaluate_anndata, plot_sing_vals_exp_var, knn_spearman_r\n",
    "adata = sc.datasets.pbmc3k()\n",
    "\n",
    "# Input: a filtered, unnormalized AnnData object\n",
    "# If already normalized, set norm_log_hvg=False\n",
    "res_dict, adata = evaluate_anndata(adata, norm_log_hvg=True)"
   ]
  },
  {
   "cell_type": "code",
   "execution_count": 18,
   "metadata": {},
   "outputs": [
    {
     "name": "stdout",
     "output_type": "stream",
     "text": [
      "1.0\n"
     ]
    }
   ],
   "source": [
    "# Learn two different kNN graphs with different numbers of neighbors\n",
    "from sklearn.neighbors import kneighbors_graph\n",
    "\n",
    "# kNN graph with 10 neighbors\n",
    "knn10 = kneighbors_graph(adata.X, n_neighbors=10, mode='connectivity', include_self=True)\n",
    "\n",
    "# kNN graph with 10 neighbors, shuffled\n",
    "from sklearn.utils import shuffle\n",
    "data_shuffled = shuffle(adata.X.T, random_state=0)\n",
    "knn10_shuffled = kneighbors_graph(data_shuffled.T, n_neighbors=10, mode='connectivity', include_self=True)\n",
    "\n",
    "# Compute the Spearman correlation between the two kNN graphs\n",
    "r = knn_spearman_r(knn10,knn10_shuffled)\n",
    "print(r)"
   ]
  }
 ],
 "metadata": {
  "kernelspec": {
   "display_name": "Python 3.8.10 64-bit",
   "language": "python",
   "name": "python3"
  },
  "language_info": {
   "codemirror_mode": {
    "name": "ipython",
    "version": 3
   },
   "file_extension": ".py",
   "mimetype": "text/x-python",
   "name": "python",
   "nbconvert_exporter": "python",
   "pygments_lexer": "ipython3",
   "version": "3.8.10"
  },
  "orig_nbformat": 4,
  "vscode": {
   "interpreter": {
    "hash": "e7370f93d1d0cde622a1f8e1c04877d8463912d04d973331ad4851f04de6915a"
   }
  }
 },
 "nbformat": 4,
 "nbformat_minor": 2
}
